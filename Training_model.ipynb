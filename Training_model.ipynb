{
 "cells": [
  {
   "cell_type": "code",
   "execution_count": 17,
   "id": "41a5fe9a",
   "metadata": {},
   "outputs": [],
   "source": [
    "# Importing Libraries\n",
    "import pandas as pd\n",
    "import seaborn as sns\n",
    "from sklearn.model_selection import train_test_split\n",
    "from sklearn.linear_model import LinearRegression\n",
    "from sklearn.metrics import r2_score"
   ]
  },
  {
   "cell_type": "code",
   "execution_count": 12,
   "id": "f5fbe5b4",
   "metadata": {},
   "outputs": [],
   "source": [
    "# Reading Data\n",
    "url = 'https://raw.githubusercontent.com/DataScience75/batch89/main/train.csv'\n",
    "data = pd.read_csv(url)\n",
    "# print(data)"
   ]
  },
  {
   "cell_type": "code",
   "execution_count": 14,
   "id": "4d840528",
   "metadata": {},
   "outputs": [
    {
     "name": "stdout",
     "output_type": "stream",
     "text": [
      "Model Trained Successfully and Prediction Completed\n",
      "The training Score of the model is 1.0\n",
      "The r2_score of the model is 1.0\n"
     ]
    }
   ],
   "source": [
    "# Assigning x and y\n",
    "y = data['count']\n",
    "x = data[[\"registered\",\"casual\",\"temp\",\"weather\"]]\n",
    "\n",
    "# splitting data into train test\n",
    "x_train,x_test,y_train,y_test = train_test_split(x, y, test_size=0.15, random_state=1234)\n",
    "\n",
    "\n",
    "# fitting data into model\n",
    "lr = LinearRegression()\n",
    "model = lr.fit(x_train, y_train)\n",
    "print('Model Trained Successfully and Prediction Completed')\n",
    "pred = lr.predict(x_test)\n",
    "training = model.score(x_train, y_train)\n",
    "print(f'The training Score of the model is {training}')\n",
    "\n",
    "\n",
    "\n",
    "# checking Score of the model\n",
    "r2score = r2_score(y_test,pred)\n",
    "print(f'The r2_score of the model is {r2score}')"
   ]
  },
  {
   "cell_type": "code",
   "execution_count": 18,
   "id": "c4bb56a6",
   "metadata": {},
   "outputs": [
    {
     "name": "stdout",
     "output_type": "stream",
     "text": [
      "Linear Regression Model is Saved\n"
     ]
    }
   ],
   "source": [
    "import joblib\n",
    "\n",
    "joblib.dump(lr,\"Bikers_predicting_model.sav\")\n",
    "print('Linear Regression Model is Saved')"
   ]
  },
  {
   "cell_type": "code",
   "execution_count": 25,
   "id": "7d1ba97a",
   "metadata": {},
   "outputs": [
    {
     "data": {
      "text/html": [
       "<div>\n",
       "<style scoped>\n",
       "    .dataframe tbody tr th:only-of-type {\n",
       "        vertical-align: middle;\n",
       "    }\n",
       "\n",
       "    .dataframe tbody tr th {\n",
       "        vertical-align: top;\n",
       "    }\n",
       "\n",
       "    .dataframe thead th {\n",
       "        text-align: right;\n",
       "    }\n",
       "</style>\n",
       "<table border=\"1\" class=\"dataframe\">\n",
       "  <thead>\n",
       "    <tr style=\"text-align: right;\">\n",
       "      <th></th>\n",
       "      <th>y_act</th>\n",
       "      <th>y_pred</th>\n",
       "    </tr>\n",
       "  </thead>\n",
       "  <tbody>\n",
       "    <tr>\n",
       "      <th>6446</th>\n",
       "      <td>8</td>\n",
       "      <td>8.0</td>\n",
       "    </tr>\n",
       "    <tr>\n",
       "      <th>8807</th>\n",
       "      <td>215</td>\n",
       "      <td>215.0</td>\n",
       "    </tr>\n",
       "    <tr>\n",
       "      <th>439</th>\n",
       "      <td>249</td>\n",
       "      <td>249.0</td>\n",
       "    </tr>\n",
       "    <tr>\n",
       "      <th>11719</th>\n",
       "      <td>263</td>\n",
       "      <td>263.0</td>\n",
       "    </tr>\n",
       "    <tr>\n",
       "      <th>12073</th>\n",
       "      <td>160</td>\n",
       "      <td>160.0</td>\n",
       "    </tr>\n",
       "    <tr>\n",
       "      <th>...</th>\n",
       "      <td>...</td>\n",
       "      <td>...</td>\n",
       "    </tr>\n",
       "    <tr>\n",
       "      <th>129</th>\n",
       "      <td>62</td>\n",
       "      <td>62.0</td>\n",
       "    </tr>\n",
       "    <tr>\n",
       "      <th>2322</th>\n",
       "      <td>235</td>\n",
       "      <td>235.0</td>\n",
       "    </tr>\n",
       "    <tr>\n",
       "      <th>10478</th>\n",
       "      <td>648</td>\n",
       "      <td>648.0</td>\n",
       "    </tr>\n",
       "    <tr>\n",
       "      <th>6450</th>\n",
       "      <td>67</td>\n",
       "      <td>67.0</td>\n",
       "    </tr>\n",
       "    <tr>\n",
       "      <th>8545</th>\n",
       "      <td>90</td>\n",
       "      <td>90.0</td>\n",
       "    </tr>\n",
       "  </tbody>\n",
       "</table>\n",
       "<p>1947 rows × 2 columns</p>\n",
       "</div>"
      ],
      "text/plain": [
       "       y_act  y_pred\n",
       "6446       8     8.0\n",
       "8807     215   215.0\n",
       "439      249   249.0\n",
       "11719    263   263.0\n",
       "12073    160   160.0\n",
       "...      ...     ...\n",
       "129       62    62.0\n",
       "2322     235   235.0\n",
       "10478    648   648.0\n",
       "6450      67    67.0\n",
       "8545      90    90.0\n",
       "\n",
       "[1947 rows x 2 columns]"
      ]
     },
     "execution_count": 25,
     "metadata": {},
     "output_type": "execute_result"
    }
   ],
   "source": [
    "df = pd.DataFrame({'y_act':y_test,'y_pred':pred})\n",
    "print(df)"
   ]
  },
  {
   "cell_type": "code",
   "execution_count": 26,
   "id": "932bcf63",
   "metadata": {},
   "outputs": [],
   "source": [
    "# pd.set_option('display.max_rows',None)"
   ]
  }
 ],
 "metadata": {
  "kernelspec": {
   "display_name": "Python 3 (ipykernel)",
   "language": "python",
   "name": "python3"
  },
  "language_info": {
   "codemirror_mode": {
    "name": "ipython",
    "version": 3
   },
   "file_extension": ".py",
   "mimetype": "text/x-python",
   "name": "python",
   "nbconvert_exporter": "python",
   "pygments_lexer": "ipython3",
   "version": "3.11.5"
  }
 },
 "nbformat": 4,
 "nbformat_minor": 5
}
