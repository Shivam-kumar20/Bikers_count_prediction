{
 "cells": [
  {
   "cell_type": "code",
   "execution_count": 10,
   "id": "c639d339",
   "metadata": {},
   "outputs": [],
   "source": [
    "# Importing Libraries\n",
    "import pandas as pd\n",
    "import seaborn as sns\n",
    "from sklearn.model_selection import train_test_split\n",
    "from sklearn.linear_model import LinearRegression\n",
    "from sklearn.metrics import r2_score"
   ]
  },
  {
   "cell_type": "code",
   "execution_count": 11,
   "id": "aae1c6ce",
   "metadata": {},
   "outputs": [],
   "source": [
    "# Reading Data\n",
    "url = 'https://raw.githubusercontent.com/DataScience75/batch89/main/train.csv'\n",
    "data = pd.read_csv(url)\n",
    "# print(data)"
   ]
  },
  {
   "cell_type": "code",
   "execution_count": 12,
   "id": "d4a61616",
   "metadata": {},
   "outputs": [],
   "source": [
    "# splitting data into train test\n",
    "def splitting(x,y):\n",
    "    x_train,x_test,y_train,y_test = train_test_split(x, y, test_size=0.15, random_state=1234)\n",
    "    return x_train, x_test, y_train, y_test\n",
    "\n",
    "\n",
    "# fitting data into model\n",
    "def training(x_train, x_test, y_train, y_test):\n",
    "    lr = LinearRegression()\n",
    "    model = lr.fit(x_train, y_train)\n",
    "    print('Model Trained Successfully and Prediction Completed')\n",
    "    pred = lr.predict(x_test)\n",
    "    training = model.score(x_train, y_train)\n",
    "    print(f'The training Score of the model is {training}')\n",
    "    return lr, pred\n",
    "\n",
    "\n",
    "# checking Score of the model\n",
    "def model_score(pred,x_train, y_train, y_test):\n",
    "    r2score = r2_score(y_test,pred)\n",
    "    print(f'The r2_score of the model is {r2score}')\n",
    "\n",
    "# Main Fctn\n",
    "def main(x,y):\n",
    "    x_train, x_test, y_train, y_test = splitting(x,y)\n",
    "    model,pred = training(x_train, x_test, y_train, y_test)\n",
    "    model_score(pred,x_train, y_train, y_test )\n",
    "    "
   ]
  },
  {
   "cell_type": "code",
   "execution_count": 13,
   "id": "18810168",
   "metadata": {},
   "outputs": [
    {
     "name": "stdout",
     "output_type": "stream",
     "text": [
      "Model Trained Successfully and Prediction Completed\n",
      "The training Score of the model is 1.0\n",
      "The r2_score of the model is 1.0\n"
     ]
    }
   ],
   "source": [
    "# fctn Calling\n",
    "\n",
    "y = data['count']\n",
    "x = data[[\"registered\",\"casual\",\"temp\",\"weather\"]]\n",
    "main(x,y)"
   ]
  },
  {
   "cell_type": "code",
   "execution_count": null,
   "id": "c428d121",
   "metadata": {},
   "outputs": [],
   "source": []
  }
 ],
 "metadata": {
  "kernelspec": {
   "display_name": "Python 3 (ipykernel)",
   "language": "python",
   "name": "python3"
  },
  "language_info": {
   "codemirror_mode": {
    "name": "ipython",
    "version": 3
   },
   "file_extension": ".py",
   "mimetype": "text/x-python",
   "name": "python",
   "nbconvert_exporter": "python",
   "pygments_lexer": "ipython3",
   "version": "3.11.5"
  }
 },
 "nbformat": 4,
 "nbformat_minor": 5
}
