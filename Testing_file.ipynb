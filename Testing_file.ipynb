{
 "cells": [
  {
   "cell_type": "code",
   "execution_count": 18,
   "id": "0b4795a4",
   "metadata": {},
   "outputs": [
    {
     "name": "stdout",
     "output_type": "stream",
     "text": [
      "LinearRegression()\n"
     ]
    }
   ],
   "source": [
    "import joblib\n",
    "import pandas as pd\n",
    "\n",
    "file_name = 'Bikers_predicting_model.sav'\n",
    "sav_model = joblib.load(file_name)\n",
    "print(sav_model)"
   ]
  },
  {
   "cell_type": "code",
   "execution_count": 10,
   "id": "c7c0a6c5",
   "metadata": {},
   "outputs": [],
   "source": [
    "# Loading the Test file\n",
    "\n",
    "path = 'https://raw.githubusercontent.com/DataScience75/batch89/main/test.csv'\n",
    "data = pd.read_csv(path)"
   ]
  },
  {
   "cell_type": "code",
   "execution_count": 47,
   "id": "ed80ad86",
   "metadata": {},
   "outputs": [],
   "source": [
    "# print(data.columns)"
   ]
  },
  {
   "cell_type": "code",
   "execution_count": 48,
   "id": "59c096fb",
   "metadata": {},
   "outputs": [
    {
     "data": {
      "text/plain": [
       "array([58., 61., 23., ..., 90., 61., 49.])"
      ]
     },
     "execution_count": 48,
     "metadata": {},
     "output_type": "execute_result"
    }
   ],
   "source": [
    "# Assigning the input for the prediction\n",
    "x = data[[\"registered\",\"casual\",\"temp\",\"weather\"]]\n",
    "pred = sav_model.predict(x)\n",
    "pred"
   ]
  },
  {
   "cell_type": "code",
   "execution_count": 43,
   "id": "ea5d2d10",
   "metadata": {},
   "outputs": [
    {
     "name": "stdout",
     "output_type": "stream",
     "text": [
      "                 DateTime  Bikers_count\n",
      "0      2012-06-30 1:00:00          58.0\n",
      "1      2012-06-30 2:00:00          61.0\n",
      "2      2012-06-30 3:00:00          23.0\n",
      "3      2012-06-30 4:00:00          18.0\n",
      "4      2012-06-30 5:00:00          10.0\n",
      "...                   ...           ...\n",
      "4394  2012-12-31 19:00:00         119.0\n",
      "4395  2012-12-31 20:00:00          89.0\n",
      "4396  2012-12-31 21:00:00          90.0\n",
      "4397  2012-12-31 22:00:00          61.0\n",
      "4398  2012-12-31 23:00:00          49.0\n",
      "\n",
      "[4399 rows x 2 columns]\n"
     ]
    }
   ],
   "source": [
    "# Making the DataFrame with the Required output\n",
    "\n",
    "df = pd.DataFrame({'DateTime':data['datetime'],'Bikers_count':pred})\n",
    "print(df)"
   ]
  },
  {
   "cell_type": "code",
   "execution_count": 46,
   "id": "bcb64ff5",
   "metadata": {},
   "outputs": [
    {
     "name": "stdout",
     "output_type": "stream",
     "text": [
      "The DataFrame is successfully exported in C:/Users/shivam.kumar/Videos/CodeWithHarry/Jan 14/ML Test/output.xlsx\n"
     ]
    }
   ],
   "source": [
    "# Extracting the output\n",
    "\n",
    "path = 'C:/Users/shivam.kumar/Videos/CodeWithHarry/Jan 14/ML Test/output.xlsx'\n",
    "df.to_excel(path,index = False)\n",
    "print(f'The DataFrame is successfully exported in {path}')"
   ]
  }
 ],
 "metadata": {
  "kernelspec": {
   "display_name": "Python 3 (ipykernel)",
   "language": "python",
   "name": "python3"
  },
  "language_info": {
   "codemirror_mode": {
    "name": "ipython",
    "version": 3
   },
   "file_extension": ".py",
   "mimetype": "text/x-python",
   "name": "python",
   "nbconvert_exporter": "python",
   "pygments_lexer": "ipython3",
   "version": "3.11.5"
  }
 },
 "nbformat": 4,
 "nbformat_minor": 5
}
